{
  "nbformat": 4,
  "nbformat_minor": 0,
  "metadata": {
    "colab": {
      "name": "eyeModel.ipynb",
      "provenance": []
    },
    "kernelspec": {
      "name": "python3",
      "display_name": "Python 3"
    },
    "language_info": {
      "name": "python"
    }
  },
  "cells": [
    {
      "cell_type": "code",
      "source": [
        "!cp -r /content/drive/MyDrive/dataset ./"
      ],
      "metadata": {
        "id": "vCz1xkU851zC"
      },
      "execution_count": null,
      "outputs": []
    },
    {
      "cell_type": "code",
      "source": [
        "!unzip /content/dataset.zip -d ./"
      ],
      "metadata": {
        "id": "_CumvakGgqMQ"
      },
      "execution_count": null,
      "outputs": []
    },
    {
      "cell_type": "code",
      "source": [
        "import keras\n",
        "from keras.applications.mobilenet import MobileNet\n",
        "from keras.preprocessing.image import ImageDataGenerator\n",
        "\n",
        "from keras.layers import GlobalAveragePooling2D\n",
        "from keras.layers import Dense\n",
        "from keras.layers import Flatten\n",
        "from keras.models import Model"
      ],
      "metadata": {
        "id": "nvlYkP-89LaQ"
      },
      "execution_count": null,
      "outputs": []
    },
    {
      "cell_type": "code",
      "source": [
        "def create_model():\n",
        "  model = MobileNet(input_shape=(32,32,3), weights='imagenet',include_top=False)\n",
        "\n",
        "  # add new classifier layers\n",
        "  # flat1 = Flatten()(model.layers[-1].output)\n",
        "  # class1 = Dense(1024, activation='relu')(flat1)\n",
        "  # output = Dense(4, activation='softmax')(class1)\n",
        "  x=model.output\n",
        "  x=GlobalAveragePooling2D()(x)\n",
        "  x=Dense(1024,activation='relu')(x) #we add dense layers so that the model can learn more complex functions and classify for better results.\n",
        "  x=Dense(1024,activation='relu')(x) #dense layer 2\n",
        "  x=Dense(512,activation='relu')(x) #dense layer 3\n",
        "  output = Dense(4, activation='softmax')(x)\n",
        "  # define new model\n",
        "  model = Model(inputs=model.inputs, outputs=output)\n",
        "  return model"
      ],
      "metadata": {
        "id": "Klqy6JLf9SfG"
      },
      "execution_count": null,
      "outputs": []
    },
    {
      "cell_type": "code",
      "source": [
        "train_data_dir = 'dataset/train'\n",
        "test_data_dir = 'dataset/test'\n",
        "img_width, img_height = (32,32)\n",
        "batch_size = 16"
      ],
      "metadata": {
        "id": "PaDCoJ8m-t7r"
      },
      "execution_count": null,
      "outputs": []
    },
    {
      "cell_type": "code",
      "source": [
        "datagen = ImageDataGenerator(rescale=1. / 255)\n",
        "train_generator = datagen.flow_from_directory(\n",
        "        train_data_dir,\n",
        "        target_size=(img_width, img_height),\n",
        "        batch_size=batch_size,\n",
        "        class_mode='categorical',\n",
        "        shuffle=True)\n",
        "\n",
        "test_generator = datagen.flow_from_directory(\n",
        "        train_data_dir,\n",
        "        target_size=(img_width, img_height),\n",
        "        batch_size=batch_size,\n",
        "        class_mode='categorical',\n",
        "        shuffle=True)"
      ],
      "metadata": {
        "colab": {
          "base_uri": "https://localhost:8080/"
        },
        "id": "mb36aMSp-1km",
        "outputId": "9abdca90-8acd-4275-b234-7929056f4178"
      },
      "execution_count": null,
      "outputs": [
        {
          "output_type": "stream",
          "name": "stdout",
          "text": [
            "Found 400 images belonging to 4 classes.\n",
            "Found 400 images belonging to 4 classes.\n"
          ]
        }
      ]
    },
    {
      "cell_type": "code",
      "source": [
        "step_size_train = train_generator.n/train_generator.batch_size\n",
        "step_size_val = test_generator.samples // test_generator.batch_size\n",
        "model = create_model()\n",
        "model.compile(optimizer='adam',loss='categorical_crossentropy',metrics=['accuracy'])\n",
        "history = model.fit_generator(generator=train_generator,\n",
        "                   steps_per_epoch=step_size_train,\n",
        "                   validation_data = test_generator, \n",
        "                   validation_steps =step_size_val,\n",
        "                   epochs=10)"
      ],
      "metadata": {
        "colab": {
          "base_uri": "https://localhost:8080/"
        },
        "id": "Qt0lrsbV_B7a",
        "outputId": "ead4572f-91d1-486b-c770-e85db663f1b9"
      },
      "execution_count": null,
      "outputs": [
        {
          "output_type": "stream",
          "name": "stdout",
          "text": [
            "WARNING:tensorflow:`input_shape` is undefined or non-square, or `rows` is not in [128, 160, 192, 224]. Weights for input shape (224, 224) will be loaded as the default.\n",
            "Epoch 1/10\n"
          ]
        },
        {
          "output_type": "stream",
          "name": "stderr",
          "text": [
            "/usr/local/lib/python3.7/dist-packages/ipykernel_launcher.py:9: UserWarning: `Model.fit_generator` is deprecated and will be removed in a future version. Please use `Model.fit`, which supports generators.\n",
            "  if __name__ == '__main__':\n"
          ]
        },
        {
          "output_type": "stream",
          "name": "stdout",
          "text": [
            "25/25 [==============================] - 11s 336ms/step - loss: 1.1075 - accuracy: 0.6400 - val_loss: 5.7946 - val_accuracy: 0.2500\n",
            "Epoch 2/10\n",
            "25/25 [==============================] - 8s 306ms/step - loss: 0.3550 - accuracy: 0.9050 - val_loss: 2.6688 - val_accuracy: 0.2500\n",
            "Epoch 3/10\n",
            "25/25 [==============================] - 8s 309ms/step - loss: 0.3755 - accuracy: 0.9150 - val_loss: 1.9934 - val_accuracy: 0.4725\n",
            "Epoch 4/10\n",
            "25/25 [==============================] - 8s 308ms/step - loss: 0.2074 - accuracy: 0.9350 - val_loss: 1.7934 - val_accuracy: 0.4550\n",
            "Epoch 5/10\n",
            "25/25 [==============================] - 8s 315ms/step - loss: 0.1463 - accuracy: 0.9575 - val_loss: 5.1099 - val_accuracy: 0.2500\n",
            "Epoch 6/10\n",
            "25/25 [==============================] - 8s 310ms/step - loss: 0.2757 - accuracy: 0.9475 - val_loss: 1.1613 - val_accuracy: 0.6325\n",
            "Epoch 7/10\n",
            "25/25 [==============================] - 8s 301ms/step - loss: 0.0818 - accuracy: 0.9800 - val_loss: 1.0232 - val_accuracy: 0.5775\n",
            "Epoch 8/10\n",
            "25/25 [==============================] - 8s 304ms/step - loss: 0.3058 - accuracy: 0.9450 - val_loss: 0.3029 - val_accuracy: 0.9200\n",
            "Epoch 9/10\n",
            "25/25 [==============================] - 8s 319ms/step - loss: 0.5709 - accuracy: 0.9050 - val_loss: 1.0784 - val_accuracy: 0.5425\n",
            "Epoch 10/10\n",
            "25/25 [==============================] - 8s 306ms/step - loss: 0.2835 - accuracy: 0.9025 - val_loss: 0.4652 - val_accuracy: 0.8675\n"
          ]
        }
      ]
    },
    {
      "cell_type": "code",
      "source": [
        "history = model.fit_generator(generator=train_generator,\n",
        "                   steps_per_epoch=step_size_train,\n",
        "                   validation_data = test_generator, \n",
        "                   validation_steps =step_size_val,\n",
        "                   epochs=5)"
      ],
      "metadata": {
        "colab": {
          "base_uri": "https://localhost:8080/"
        },
        "id": "DpiZ3rWLkB9N",
        "outputId": "f1c6fac8-a56a-454d-ee42-ee103cfbef0e"
      },
      "execution_count": null,
      "outputs": [
        {
          "output_type": "stream",
          "name": "stdout",
          "text": [
            "Epoch 1/5\n"
          ]
        },
        {
          "output_type": "stream",
          "name": "stderr",
          "text": [
            "/usr/local/lib/python3.7/dist-packages/ipykernel_launcher.py:5: UserWarning: `Model.fit_generator` is deprecated and will be removed in a future version. Please use `Model.fit`, which supports generators.\n",
            "  \"\"\"\n"
          ]
        },
        {
          "output_type": "stream",
          "name": "stdout",
          "text": [
            "25/25 [==============================] - 8s 320ms/step - loss: 0.4198 - accuracy: 0.9400 - val_loss: 0.3200 - val_accuracy: 0.9050\n",
            "Epoch 2/5\n",
            "25/25 [==============================] - 8s 313ms/step - loss: 0.4145 - accuracy: 0.9050 - val_loss: 0.7696 - val_accuracy: 0.7150\n",
            "Epoch 3/5\n",
            "25/25 [==============================] - 8s 305ms/step - loss: 0.2437 - accuracy: 0.9200 - val_loss: 0.0510 - val_accuracy: 0.9850\n",
            "Epoch 4/5\n",
            "25/25 [==============================] - 8s 311ms/step - loss: 0.2044 - accuracy: 0.9650 - val_loss: 0.1491 - val_accuracy: 0.9950\n",
            "Epoch 5/5\n",
            "25/25 [==============================] - 8s 312ms/step - loss: 0.1837 - accuracy: 0.9575 - val_loss: 0.0843 - val_accuracy: 0.9750\n"
          ]
        }
      ]
    },
    {
      "cell_type": "code",
      "source": [
        "model.save('saved_model.h5')"
      ],
      "metadata": {
        "id": "pQqkuCN8_1hn"
      },
      "execution_count": null,
      "outputs": []
    },
    {
      "cell_type": "code",
      "source": [
        "!cp saved_model.h5 /content/drive/MyDrive/dataset/"
      ],
      "metadata": {
        "id": "D2govMEDkWrr"
      },
      "execution_count": null,
      "outputs": []
    }
  ]
}